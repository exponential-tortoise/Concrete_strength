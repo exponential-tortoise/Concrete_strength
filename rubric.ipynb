{
 "metadata": {
  "language_info": {
   "codemirror_mode": {
    "name": "ipython",
    "version": 3
   },
   "file_extension": ".py",
   "mimetype": "text/x-python",
   "name": "python",
   "nbconvert_exporter": "python",
   "pygments_lexer": "ipython3",
   "version": 3
  },
  "orig_nbformat": 2,
  "kernelspec": {
   "name": "python_defaultSpec_1596880624163",
   "display_name": "Python 3.7.6 64-bit ('base': conda)"
  }
 },
 "nbformat": 4,
 "nbformat_minor": 2,
 "cells": [
  {
   "cell_type": "code",
   "execution_count": 1,
   "metadata": {},
   "outputs": [],
   "source": [
    "import numpy as np\n",
    "import pandas as pd \n",
    "import matplotlib.pyplot as plt \n",
    "from sklearn.metrics import accuracy_score \n",
    "from sklearn.metrics import precision_score\n",
    "from sklearn.metrics import f1_score, roc_auc_score, roc_curve"
   ]
  },
  {
   "cell_type": "code",
   "execution_count": 2,
   "metadata": {},
   "outputs": [
    {
     "output_type": "execute_result",
     "data": {
      "text/plain": "   Cement (component 1)(kg in a m^3 mixture)  \\\n0                                      540.0   \n1                                      540.0   \n2                                      332.5   \n3                                      332.5   \n4                                      198.6   \n5                                      266.0   \n6                                      380.0   \n7                                      380.0   \n8                                      266.0   \n9                                      475.0   \n\n   Blast Furnace Slag (component 2)(kg in a m^3 mixture)  \\\n0                                                0.0       \n1                                                0.0       \n2                                              142.5       \n3                                              142.5       \n4                                              132.4       \n5                                              114.0       \n6                                               95.0       \n7                                               95.0       \n8                                              114.0       \n9                                                0.0       \n\n   Fly Ash (component 3)(kg in a m^3 mixture)  \\\n0                                         0.0   \n1                                         0.0   \n2                                         0.0   \n3                                         0.0   \n4                                         0.0   \n5                                         0.0   \n6                                         0.0   \n7                                         0.0   \n8                                         0.0   \n9                                         0.0   \n\n   Water  (component 4)(kg in a m^3 mixture)  \\\n0                                      162.0   \n1                                      162.0   \n2                                      228.0   \n3                                      228.0   \n4                                      192.0   \n5                                      228.0   \n6                                      228.0   \n7                                      228.0   \n8                                      228.0   \n9                                      228.0   \n\n   Superplasticizer (component 5)(kg in a m^3 mixture)  \\\n0                                                2.5     \n1                                                2.5     \n2                                                0.0     \n3                                                0.0     \n4                                                0.0     \n5                                                0.0     \n6                                                0.0     \n7                                                0.0     \n8                                                0.0     \n9                                                0.0     \n\n   Coarse Aggregate  (component 6)(kg in a m^3 mixture)  \\\n0                                             1040.0      \n1                                             1055.0      \n2                                              932.0      \n3                                              932.0      \n4                                              978.4      \n5                                              932.0      \n6                                              932.0      \n7                                              932.0      \n8                                              932.0      \n9                                              932.0      \n\n   Fine Aggregate (component 7)(kg in a m^3 mixture)  Age (day)  \\\n0                                              676.0         28   \n1                                              676.0         28   \n2                                              594.0        270   \n3                                              594.0        365   \n4                                              825.5        360   \n5                                              670.0         90   \n6                                              594.0        365   \n7                                              594.0         28   \n8                                              670.0         28   \n9                                              594.0         28   \n\n   Concrete compressive strength(MPa, megapascals)   \n0                                             79.99  \n1                                             61.89  \n2                                             40.27  \n3                                             41.05  \n4                                             44.30  \n5                                             47.03  \n6                                             43.70  \n7                                             36.45  \n8                                             45.85  \n9                                             39.29  ",
      "text/html": "<div>\n<style scoped>\n    .dataframe tbody tr th:only-of-type {\n        vertical-align: middle;\n    }\n\n    .dataframe tbody tr th {\n        vertical-align: top;\n    }\n\n    .dataframe thead th {\n        text-align: right;\n    }\n</style>\n<table border=\"1\" class=\"dataframe\">\n  <thead>\n    <tr style=\"text-align: right;\">\n      <th></th>\n      <th>Cement (component 1)(kg in a m^3 mixture)</th>\n      <th>Blast Furnace Slag (component 2)(kg in a m^3 mixture)</th>\n      <th>Fly Ash (component 3)(kg in a m^3 mixture)</th>\n      <th>Water  (component 4)(kg in a m^3 mixture)</th>\n      <th>Superplasticizer (component 5)(kg in a m^3 mixture)</th>\n      <th>Coarse Aggregate  (component 6)(kg in a m^3 mixture)</th>\n      <th>Fine Aggregate (component 7)(kg in a m^3 mixture)</th>\n      <th>Age (day)</th>\n      <th>Concrete compressive strength(MPa, megapascals)</th>\n    </tr>\n  </thead>\n  <tbody>\n    <tr>\n      <th>0</th>\n      <td>540.0</td>\n      <td>0.0</td>\n      <td>0.0</td>\n      <td>162.0</td>\n      <td>2.5</td>\n      <td>1040.0</td>\n      <td>676.0</td>\n      <td>28</td>\n      <td>79.99</td>\n    </tr>\n    <tr>\n      <th>1</th>\n      <td>540.0</td>\n      <td>0.0</td>\n      <td>0.0</td>\n      <td>162.0</td>\n      <td>2.5</td>\n      <td>1055.0</td>\n      <td>676.0</td>\n      <td>28</td>\n      <td>61.89</td>\n    </tr>\n    <tr>\n      <th>2</th>\n      <td>332.5</td>\n      <td>142.5</td>\n      <td>0.0</td>\n      <td>228.0</td>\n      <td>0.0</td>\n      <td>932.0</td>\n      <td>594.0</td>\n      <td>270</td>\n      <td>40.27</td>\n    </tr>\n    <tr>\n      <th>3</th>\n      <td>332.5</td>\n      <td>142.5</td>\n      <td>0.0</td>\n      <td>228.0</td>\n      <td>0.0</td>\n      <td>932.0</td>\n      <td>594.0</td>\n      <td>365</td>\n      <td>41.05</td>\n    </tr>\n    <tr>\n      <th>4</th>\n      <td>198.6</td>\n      <td>132.4</td>\n      <td>0.0</td>\n      <td>192.0</td>\n      <td>0.0</td>\n      <td>978.4</td>\n      <td>825.5</td>\n      <td>360</td>\n      <td>44.30</td>\n    </tr>\n    <tr>\n      <th>5</th>\n      <td>266.0</td>\n      <td>114.0</td>\n      <td>0.0</td>\n      <td>228.0</td>\n      <td>0.0</td>\n      <td>932.0</td>\n      <td>670.0</td>\n      <td>90</td>\n      <td>47.03</td>\n    </tr>\n    <tr>\n      <th>6</th>\n      <td>380.0</td>\n      <td>95.0</td>\n      <td>0.0</td>\n      <td>228.0</td>\n      <td>0.0</td>\n      <td>932.0</td>\n      <td>594.0</td>\n      <td>365</td>\n      <td>43.70</td>\n    </tr>\n    <tr>\n      <th>7</th>\n      <td>380.0</td>\n      <td>95.0</td>\n      <td>0.0</td>\n      <td>228.0</td>\n      <td>0.0</td>\n      <td>932.0</td>\n      <td>594.0</td>\n      <td>28</td>\n      <td>36.45</td>\n    </tr>\n    <tr>\n      <th>8</th>\n      <td>266.0</td>\n      <td>114.0</td>\n      <td>0.0</td>\n      <td>228.0</td>\n      <td>0.0</td>\n      <td>932.0</td>\n      <td>670.0</td>\n      <td>28</td>\n      <td>45.85</td>\n    </tr>\n    <tr>\n      <th>9</th>\n      <td>475.0</td>\n      <td>0.0</td>\n      <td>0.0</td>\n      <td>228.0</td>\n      <td>0.0</td>\n      <td>932.0</td>\n      <td>594.0</td>\n      <td>28</td>\n      <td>39.29</td>\n    </tr>\n  </tbody>\n</table>\n</div>"
     },
     "metadata": {},
     "execution_count": 2
    }
   ],
   "source": [
    "df=pd.read_csv('compresive_strength_concrete.csv')\n",
    "\n",
    "df.head(10)\n"
   ]
  },
  {
   "cell_type": "code",
   "execution_count": 3,
   "metadata": {},
   "outputs": [
    {
     "output_type": "execute_result",
     "data": {
      "text/plain": "Cement (component 1)(kg in a m^3 mixture)                0\nBlast Furnace Slag (component 2)(kg in a m^3 mixture)    0\nFly Ash (component 3)(kg in a m^3 mixture)               0\nWater  (component 4)(kg in a m^3 mixture)                0\nSuperplasticizer (component 5)(kg in a m^3 mixture)      0\nCoarse Aggregate  (component 6)(kg in a m^3 mixture)     0\nFine Aggregate (component 7)(kg in a m^3 mixture)        0\nAge (day)                                                0\nConcrete compressive strength(MPa, megapascals)          0\ndtype: int64"
     },
     "metadata": {},
     "execution_count": 3
    }
   ],
   "source": [
    "df.isnull().sum()"
   ]
  },
  {
   "cell_type": "code",
   "execution_count": null,
   "metadata": {},
   "outputs": [],
   "source": []
  },
  {
   "cell_type": "code",
   "execution_count": 4,
   "metadata": {
    "tags": []
   },
   "outputs": [
    {
     "output_type": "stream",
     "name": "stdout",
     "text": "Cement (component 1)(kg in a m^3 mixture)  \\\n0                                      540.0   \n1                                      540.0   \n2                                      332.5   \n3                                      332.5   \n4                                      198.6   \n5                                      266.0   \n\n   Blast Furnace Slag (component 2)(kg in a m^3 mixture)  \\\n0                                                0.0       \n1                                                0.0       \n2                                              142.5       \n3                                              142.5       \n4                                              132.4       \n5                                              114.0       \n\n   Fly Ash (component 3)(kg in a m^3 mixture)  \\\n0                                         0.0   \n1                                         0.0   \n2                                         0.0   \n3                                         0.0   \n4                                         0.0   \n5                                         0.0   \n\n   Water  (component 4)(kg in a m^3 mixture)  \\\n0                                      162.0   \n1                                      162.0   \n2                                      228.0   \n3                                      228.0   \n4                                      192.0   \n5                                      228.0   \n\n   Superplasticizer (component 5)(kg in a m^3 mixture)  \\\n0                                                2.5     \n1                                                2.5     \n2                                                0.0     \n3                                                0.0     \n4                                                0.0     \n5                                                0.0     \n\n   Coarse Aggregate  (component 6)(kg in a m^3 mixture)  \\\n0                                             1040.0      \n1                                             1055.0      \n2                                              932.0      \n3                                              932.0      \n4                                              978.4      \n5                                              932.0      \n\n   Fine Aggregate (component 7)(kg in a m^3 mixture)  Age (day)  \n0                                              676.0         28  \n1                                              676.0         28  \n2                                              594.0        270  \n3                                              594.0        365  \n4                                              825.5        360  \n5                                              670.0         90  \n0    79.99\n1    61.89\n2    40.27\n3    41.05\n4    44.30\n5    47.03\nName: Concrete compressive strength(MPa, megapascals) , dtype: float64\n"
    }
   ],
   "source": [
    "X=df.iloc[:,:-1]\n",
    "\n",
    "y=df.iloc[:,-1]\n",
    "\n",
    "print(X.head(6))\n",
    "print(y.head(6))"
   ]
  },
  {
   "cell_type": "code",
   "execution_count": 5,
   "metadata": {},
   "outputs": [],
   "source": [
    "from sklearn.model_selection import train_test_split\n",
    "\n",
    "X_train, X_test, y_train, y_test = train_test_split(\n",
    "    X, y, test_size=0.30, random_state=0)\n",
    "\n"
   ]
  },
  {
   "cell_type": "code",
   "execution_count": 6,
   "metadata": {},
   "outputs": [
    {
     "output_type": "execute_result",
     "data": {
      "text/plain": "'\\nfrom sklearn.preprocessing import MinMaxScaler\\nsc = MinMaxScaler()\\nX_train = sc.fit_transform(X_train)\\nX_test = sc.transform (X_test)\\n'"
     },
     "metadata": {},
     "execution_count": 6
    }
   ],
   "source": [
    "# Scaling the data before fitting models\n",
    "'''\n",
    "from sklearn.preprocessing import MinMaxScaler\n",
    "sc = MinMaxScaler()\n",
    "X_train = sc.fit_transform(X_train)\n",
    "X_test = sc.transform (X_test)\n",
    "'''"
   ]
  },
  {
   "cell_type": "markdown",
   "metadata": {},
   "source": [
    "<h3>Experimenting with different Algorithms  </h3>"
   ]
  },
  {
   "cell_type": "code",
   "execution_count": 7,
   "metadata": {
    "tags": []
   },
   "outputs": [
    {
     "output_type": "stream",
     "name": "stdout",
     "text": "rmse      \t\t mae        \t\t r2\n13.987504786072574 11.23732069539425 0.2378244714527794\n\n\nrmse      \t\t mae        \t\t r2\n7.487675123527697 6.155326843840202 0.7815920260687992\n\n\nrmse      \t\t mae        \t\t r2\n5.2011388007474295 3.582608922021882 0.8946167975902231\n\n\nrmse      \t\t mae        \t\t r2\n5.096401301969084 3.824054337109506 0.8988183539604994\n\n\nrmse      \t\t mae        \t\t r2\n9.648979530100764 7.733760898528134 0.6373085861500805\n\n\nrmse      \t\t mae        \t\t r2\n9.507446856106156 7.313818770226536 0.6478705751615099\n\n\n"
    }
   ],
   "source": [
    "from sklearn.svm import SVR\n",
    "from sklearn.ensemble import RandomForestRegressor,AdaBoostRegressor\n",
    "from sklearn.metrics import mean_squared_error,mean_absolute_error,r2_score\n",
    "from sklearn.ensemble import GradientBoostingRegressor\n",
    "from sklearn.linear_model import SGDRegressor\n",
    "from sklearn.neighbors import KNeighborsRegressor\n",
    "from sklearn.linear_model import BayesianRidge\n",
    "\n",
    "\n",
    "for reg in (SVR(),AdaBoostRegressor(),RandomForestRegressor(),GradientBoostingRegressor(),BayesianRidge(),KNeighborsRegressor()):\n",
    "    \n",
    "    reg.fit(X_train,y_train)\n",
    "\n",
    "    y_pred=reg.predict(X_test)\n",
    "\n",
    "    rmse=mean_squared_error(y_test,y_pred,squared=False)\n",
    "    mae=mean_absolute_error(y_test,y_pred)\n",
    "    r2=r2_score(y_test,y_pred)\n",
    "\n",
    "    print('rmse      \\t\\t mae        \\t\\t r2')\n",
    "    print(rmse , mae , r2)\n",
    "    print('\\n')\n",
    "\n",
    "\n",
    "\n"
   ]
  },
  {
   "cell_type": "markdown",
   "metadata": {},
   "source": [
    "<font color='red'>GradientBoostingRegressor showed best performance in the initial model screening. So we will proceed with that</font>"
   ]
  },
  {
   "cell_type": "markdown",
   "metadata": {},
   "source": [
    "<h2>Hyper Parameter tuning of Gradient Boosting Regressor</h2>"
   ]
  },
  {
   "cell_type": "code",
   "execution_count": 8,
   "metadata": {
    "tags": [
     "outputPrepend"
    ]
   },
   "outputs": [
    {
     "output_type": "stream",
     "name": "stdout",
     "text": "  0.3s\n[CV] learning_rate=0.225, max_depth=2, n_estimators=220 ..............\n[CV]  learning_rate=0.225, max_depth=2, n_estimators=220, score=0.913, total=   0.3s\n[CV] learning_rate=0.225, max_depth=2, n_estimators=220 ..............\n[CV]  learning_rate=0.225, max_depth=2, n_estimators=220, score=0.928, total=   0.4s\n[CV] learning_rate=0.225, max_depth=2, n_estimators=220 ..............\n[CV]  learning_rate=0.225, max_depth=2, n_estimators=220, score=0.896, total=   0.3s\n[CV] learning_rate=0.225, max_depth=2, n_estimators=230 ..............\n[CV]  learning_rate=0.225, max_depth=2, n_estimators=230, score=0.925, total=   0.3s\n[CV] learning_rate=0.225, max_depth=2, n_estimators=230 ..............\n[CV]  learning_rate=0.225, max_depth=2, n_estimators=230, score=0.933, total=   0.3s\n[CV] learning_rate=0.225, max_depth=2, n_estimators=230 ..............\n[CV]  learning_rate=0.225, max_depth=2, n_estimators=230, score=0.905, total=   0.2s\n[CV] learning_rate=0.225, max_depth=2, n_estimators=230 ..............\n[CV]  learning_rate=0.225, max_depth=2, n_estimators=230, score=0.914, total=   0.3s\n[CV] learning_rate=0.225, max_depth=2, n_estimators=230 ..............\n[CV]  learning_rate=0.225, max_depth=2, n_estimators=230, score=0.898, total=   0.3s\n[CV] learning_rate=0.225, max_depth=3, n_estimators=210 ..............\n[CV]  learning_rate=0.225, max_depth=3, n_estimators=210, score=0.935, total=   0.3s\n[CV] learning_rate=0.225, max_depth=3, n_estimators=210 ..............\n[CV]  learning_rate=0.225, max_depth=3, n_estimators=210, score=0.934, total=   0.4s\n[CV] learning_rate=0.225, max_depth=3, n_estimators=210 ..............\n[CV]  learning_rate=0.225, max_depth=3, n_estimators=210, score=0.924, total=   0.3s\n[CV] learning_rate=0.225, max_depth=3, n_estimators=210 ..............\n[CV]  learning_rate=0.225, max_depth=3, n_estimators=210, score=0.927, total=   0.3s\n[CV] learning_rate=0.225, max_depth=3, n_estimators=210 ..............\n[CV]  learning_rate=0.225, max_depth=3, n_estimators=210, score=0.913, total=   0.3s\n[CV] learning_rate=0.225, max_depth=3, n_estimators=220 ..............\n[CV]  learning_rate=0.225, max_depth=3, n_estimators=220, score=0.930, total=   0.3s\n[CV] learning_rate=0.225, max_depth=3, n_estimators=220 ..............\n[CV]  learning_rate=0.225, max_depth=3, n_estimators=220, score=0.949, total=   0.3s\n[CV] learning_rate=0.225, max_depth=3, n_estimators=220 ..............\n[CV]  learning_rate=0.225, max_depth=3, n_estimators=220, score=0.922, total=   0.3s\n[CV] learning_rate=0.225, max_depth=3, n_estimators=220 ..............\n[CV]  learning_rate=0.225, max_depth=3, n_estimators=220, score=0.933, total=   0.4s\n[CV] learning_rate=0.225, max_depth=3, n_estimators=220 ..............\n[CV]  learning_rate=0.225, max_depth=3, n_estimators=220, score=0.910, total=   0.4s\n[CV] learning_rate=0.225, max_depth=3, n_estimators=230 ..............\n[CV]  learning_rate=0.225, max_depth=3, n_estimators=230, score=0.923, total=   0.4s\n[CV] learning_rate=0.225, max_depth=3, n_estimators=230 ..............\n[CV]  learning_rate=0.225, max_depth=3, n_estimators=230, score=0.923, total=   0.4s\n[CV] learning_rate=0.225, max_depth=3, n_estimators=230 ..............\n[CV]  learning_rate=0.225, max_depth=3, n_estimators=230, score=0.919, total=   0.4s\n[CV] learning_rate=0.225, max_depth=3, n_estimators=230 ..............\n[CV]  learning_rate=0.225, max_depth=3, n_estimators=230, score=0.929, total=   0.4s\n[CV] learning_rate=0.225, max_depth=3, n_estimators=230 ..............\n[CV]  learning_rate=0.225, max_depth=3, n_estimators=230, score=0.905, total=   0.4s\n[CV] learning_rate=0.225, max_depth=4, n_estimators=210 ..............\n[CV]  learning_rate=0.225, max_depth=4, n_estimators=210, score=0.929, total=   0.4s\n[CV] learning_rate=0.225, max_depth=4, n_estimators=210 ..............\n[CV]  learning_rate=0.225, max_depth=4, n_estimators=210, score=0.924, total=   0.3s\n[CV] learning_rate=0.225, max_depth=4, n_estimators=210 ..............\n[CV]  learning_rate=0.225, max_depth=4, n_estimators=210, score=0.912, total=   0.3s\n[CV] learning_rate=0.225, max_depth=4, n_estimators=210 ..............\n[CV]  learning_rate=0.225, max_depth=4, n_estimators=210, score=0.922, total=   0.4s\n[CV] learning_rate=0.225, max_depth=4, n_estimators=210 ..............\n[CV]  learning_rate=0.225, max_depth=4, n_estimators=210, score=0.902, total=   0.4s\n[CV] learning_rate=0.225, max_depth=4, n_estimators=220 ..............\n[CV]  learning_rate=0.225, max_depth=4, n_estimators=220, score=0.939, total=   0.4s\n[CV] learning_rate=0.225, max_depth=4, n_estimators=220 ..............\n[CV]  learning_rate=0.225, max_depth=4, n_estimators=220, score=0.920, total=   0.3s\n[CV] learning_rate=0.225, max_depth=4, n_estimators=220 ..............\n[CV]  learning_rate=0.225, max_depth=4, n_estimators=220, score=0.899, total=   0.3s\n[CV] learning_rate=0.225, max_depth=4, n_estimators=220 ..............\n[CV]  learning_rate=0.225, max_depth=4, n_estimators=220, score=0.921, total=   0.3s\n[CV] learning_rate=0.225, max_depth=4, n_estimators=220 ..............\n[CV]  learning_rate=0.225, max_depth=4, n_estimators=220, score=0.908, total=   0.3s\n[CV] learning_rate=0.225, max_depth=4, n_estimators=230 ..............\n[CV]  learning_rate=0.225, max_depth=4, n_estimators=230, score=0.947, total=   0.3s\n[CV] learning_rate=0.225, max_depth=4, n_estimators=230 ..............\n[CV]  learning_rate=0.225, max_depth=4, n_estimators=230, score=0.934, total=   0.3s\n[CV] learning_rate=0.225, max_depth=4, n_estimators=230 ..............\n[CV]  learning_rate=0.225, max_depth=4, n_estimators=230, score=0.917, total=   0.4s\n[CV] learning_rate=0.225, max_depth=4, n_estimators=230 ..............\n[CV]  learning_rate=0.225, max_depth=4, n_estimators=230, score=0.935, total=   0.3s\n[CV] learning_rate=0.225, max_depth=4, n_estimators=230 ..............\n[CV]  learning_rate=0.225, max_depth=4, n_estimators=230, score=0.915, total=   0.3s\n[CV] learning_rate=0.23, max_depth=2, n_estimators=210 ...............\n[CV]  learning_rate=0.23, max_depth=2, n_estimators=210, score=0.919, total=   0.3s\n[CV] learning_rate=0.23, max_depth=2, n_estimators=210 ...............\n[CV]  learning_rate=0.23, max_depth=2, n_estimators=210, score=0.934, total=   0.2s\n[CV] learning_rate=0.23, max_depth=2, n_estimators=210 ...............\n[CV]  learning_rate=0.23, max_depth=2, n_estimators=210, score=0.910, total=   0.2s\n[CV] learning_rate=0.23, max_depth=2, n_estimators=210 ...............\n[CV]  learning_rate=0.23, max_depth=2, n_estimators=210, score=0.922, total=   0.2s\n[CV] learning_rate=0.23, max_depth=2, n_estimators=210 ...............\n[CV]  learning_rate=0.23, max_depth=2, n_estimators=210, score=0.874, total=   0.2s\n[CV] learning_rate=0.23, max_depth=2, n_estimators=220 ...............\n[CV]  learning_rate=0.23, max_depth=2, n_estimators=220, score=0.923, total=   0.3s\n[CV] learning_rate=0.23, max_depth=2, n_estimators=220 ...............\n[CV]  learning_rate=0.23, max_depth=2, n_estimators=220, score=0.918, total=   0.3s\n[CV] learning_rate=0.23, max_depth=2, n_estimators=220 ...............\n[CV]  learning_rate=0.23, max_depth=2, n_estimators=220, score=0.913, total=   0.3s\n[CV] learning_rate=0.23, max_depth=2, n_estimators=220 ...............\n[CV]  learning_rate=0.23, max_depth=2, n_estimators=220, score=0.919, total=   0.3s\n[CV] learning_rate=0.23, max_depth=2, n_estimators=220 ...............\n[CV]  learning_rate=0.23, max_depth=2, n_estimators=220, score=0.899, total=   0.3s\n[CV] learning_rate=0.23, max_depth=2, n_estimators=230 ...............\n[CV]  learning_rate=0.23, max_depth=2, n_estimators=230, score=0.917, total=   0.2s\n[CV] learning_rate=0.23, max_depth=2, n_estimators=230 ...............\n[CV]  learning_rate=0.23, max_depth=2, n_estimators=230, score=0.928, total=   0.3s\n[CV] learning_rate=0.23, max_depth=2, n_estimators=230 ...............\n[CV]  learning_rate=0.23, max_depth=2, n_estimators=230, score=0.907, total=   0.2s\n[CV] learning_rate=0.23, max_depth=2, n_estimators=230 ...............\n[CV]  learning_rate=0.23, max_depth=2, n_estimators=230, score=0.917, total=   0.3s\n[CV] learning_rate=0.23, max_depth=2, n_estimators=230 ...............\n[CV]  learning_rate=0.23, max_depth=2, n_estimators=230, score=0.879, total=   0.3s\n[CV] learning_rate=0.23, max_depth=3, n_estimators=210 ...............\n[CV]  learning_rate=0.23, max_depth=3, n_estimators=210, score=0.930, total=   0.3s\n[CV] learning_rate=0.23, max_depth=3, n_estimators=210 ...............\n[CV]  learning_rate=0.23, max_depth=3, n_estimators=210, score=0.947, total=   0.3s\n[CV] learning_rate=0.23, max_depth=3, n_estimators=210 ...............\n[CV]  learning_rate=0.23, max_depth=3, n_estimators=210, score=0.922, total=   0.3s\n[CV] learning_rate=0.23, max_depth=3, n_estimators=210 ...............\n[CV]  learning_rate=0.23, max_depth=3, n_estimators=210, score=0.926, total=   0.3s\n[CV] learning_rate=0.23, max_depth=3, n_estimators=210 ...............\n[CV]  learning_rate=0.23, max_depth=3, n_estimators=210, score=0.898, total=   0.3s\n[CV] learning_rate=0.23, max_depth=3, n_estimators=220 ...............\n[CV]  learning_rate=0.23, max_depth=3, n_estimators=220, score=0.930, total=   0.3s\n[CV] learning_rate=0.23, max_depth=3, n_estimators=220 ...............\n[CV]  learning_rate=0.23, max_depth=3, n_estimators=220, score=0.938, total=   0.3s\n[CV] learning_rate=0.23, max_depth=3, n_estimators=220 ...............\n[CV]  learning_rate=0.23, max_depth=3, n_estimators=220, score=0.912, total=   0.3s\n[CV] learning_rate=0.23, max_depth=3, n_estimators=220 ...............\n[CV]  learning_rate=0.23, max_depth=3, n_estimators=220, score=0.913, total=   0.3s\n[CV] learning_rate=0.23, max_depth=3, n_estimators=220 ...............\n[CV]  learning_rate=0.23, max_depth=3, n_estimators=220, score=0.916, total=   0.3s\n[CV] learning_rate=0.23, max_depth=3, n_estimators=230 ...............\n[CV]  learning_rate=0.23, max_depth=3, n_estimators=230, score=0.938, total=   0.3s\n[CV] learning_rate=0.23, max_depth=3, n_estimators=230 ...............\n[CV]  learning_rate=0.23, max_depth=3, n_estimators=230, score=0.927, total=   0.3s\n[CV] learning_rate=0.23, max_depth=3, n_estimators=230 ...............\n[CV]  learning_rate=0.23, max_depth=3, n_estimators=230, score=0.920, total=   0.3s\n[CV] learning_rate=0.23, max_depth=3, n_estimators=230 ...............\n[CV]  learning_rate=0.23, max_depth=3, n_estimators=230, score=0.917, total=   0.3s\n[CV] learning_rate=0.23, max_depth=3, n_estimators=230 ...............\n[CV]  learning_rate=0.23, max_depth=3, n_estimators=230, score=0.892, total=   0.3s\n[CV] learning_rate=0.23, max_depth=4, n_estimators=210 ...............\n[CV]  learning_rate=0.23, max_depth=4, n_estimators=210, score=0.927, total=   0.3s\n[CV] learning_rate=0.23, max_depth=4, n_estimators=210 ...............\n[CV]  learning_rate=0.23, max_depth=4, n_estimators=210, score=0.933, total=   0.3s\n[CV] learning_rate=0.23, max_depth=4, n_estimators=210 ...............\n[CV]  learning_rate=0.23, max_depth=4, n_estimators=210, score=0.909, total=   0.3s\n[CV] learning_rate=0.23, max_depth=4, n_estimators=210 ...............\n[CV]  learning_rate=0.23, max_depth=4, n_estimators=210, score=0.942, total=   0.3s\n[CV] learning_rate=0.23, max_depth=4, n_estimators=210 ...............\n[CV]  learning_rate=0.23, max_depth=4, n_estimators=210, score=0.903, total=   0.3s\n[CV] learning_rate=0.23, max_depth=4, n_estimators=220 ...............\n[CV]  learning_rate=0.23, max_depth=4, n_estimators=220, score=0.910, total=   0.4s\n[CV] learning_rate=0.23, max_depth=4, n_estimators=220 ...............\n[CV]  learning_rate=0.23, max_depth=4, n_estimators=220, score=0.947, total=   0.4s\n[CV] learning_rate=0.23, max_depth=4, n_estimators=220 ...............\n[CV]  learning_rate=0.23, max_depth=4, n_estimators=220, score=0.912, total=   0.3s\n[CV] learning_rate=0.23, max_depth=4, n_estimators=220 ...............\n[CV]  learning_rate=0.23, max_depth=4, n_estimators=220, score=0.916, total=   0.3s\n[CV] learning_rate=0.23, max_depth=4, n_estimators=220 ...............\n[CV]  learning_rate=0.23, max_depth=4, n_estimators=220, score=0.902, total=   0.3s\n[CV] learning_rate=0.23, max_depth=4, n_estimators=230 ...............\n[CV]  learning_rate=0.23, max_depth=4, n_estimators=230, score=0.939, total=   0.3s\n[CV] learning_rate=0.23, max_depth=4, n_estimators=230 ...............\n[CV]  learning_rate=0.23, max_depth=4, n_estimators=230, score=0.926, total=   0.3s\n[CV] learning_rate=0.23, max_depth=4, n_estimators=230 ...............\n[CV]  learning_rate=0.23, max_depth=4, n_estimators=230, score=0.920, total=   0.3s\n[CV] learning_rate=0.23, max_depth=4, n_estimators=230 ...............\n[CV]  learning_rate=0.23, max_depth=4, n_estimators=230, score=0.928, total=   0.4s\n[CV] learning_rate=0.23, max_depth=4, n_estimators=230 ...............\n[CV]  learning_rate=0.23, max_depth=4, n_estimators=230, score=0.890, total=   0.4s\n[CV] learning_rate=0.235, max_depth=2, n_estimators=210 ..............\n[CV]  learning_rate=0.235, max_depth=2, n_estimators=210, score=0.925, total=   0.3s\n[CV] learning_rate=0.235, max_depth=2, n_estimators=210 ..............\n[CV]  learning_rate=0.235, max_depth=2, n_estimators=210, score=0.930, total=   0.3s\n[CV] learning_rate=0.235, max_depth=2, n_estimators=210 ..............\n[CV]  learning_rate=0.235, max_depth=2, n_estimators=210, score=0.900, total=   0.3s\n[CV] learning_rate=0.235, max_depth=2, n_estimators=210 ..............\n[CV]  learning_rate=0.235, max_depth=2, n_estimators=210, score=0.925, total=   0.2s\n[CV] learning_rate=0.235, max_depth=2, n_estimators=210 ..............\n[CV]  learning_rate=0.235, max_depth=2, n_estimators=210, score=0.862, total=   0.2s\n[CV] learning_rate=0.235, max_depth=2, n_estimators=220 ..............\n[CV]  learning_rate=0.235, max_depth=2, n_estimators=220, score=0.909, total=   0.2s\n[CV] learning_rate=0.235, max_depth=2, n_estimators=220 ..............\n[CV]  learning_rate=0.235, max_depth=2, n_estimators=220, score=0.942, total=   0.3s\n[CV] learning_rate=0.235, max_depth=2, n_estimators=220 ..............\n[CV]  learning_rate=0.235, max_depth=2, n_estimators=220, score=0.909, total=   0.2s\n[CV] learning_rate=0.235, max_depth=2, n_estimators=220 ..............\n[CV]  learning_rate=0.235, max_depth=2, n_estimators=220, score=0.922, total=   0.2s\n[CV] learning_rate=0.235, max_depth=2, n_estimators=220 ..............\n[CV]  learning_rate=0.235, max_depth=2, n_estimators=220, score=0.888, total=   0.2s\n[CV] learning_rate=0.235, max_depth=2, n_estimators=230 ..............\n[CV]  learning_rate=0.235, max_depth=2, n_estimators=230, score=0.926, total=   0.2s\n[CV] learning_rate=0.235, max_depth=2, n_estimators=230 ..............\n[CV]  learning_rate=0.235, max_depth=2, n_estimators=230, score=0.928, total=   0.2s\n[CV] learning_rate=0.235, max_depth=2, n_estimators=230 ..............\n[CV]  learning_rate=0.235, max_depth=2, n_estimators=230, score=0.918, total=   0.2s\n[CV] learning_rate=0.235, max_depth=2, n_estimators=230 ..............\n[CV]  learning_rate=0.235, max_depth=2, n_estimators=230, score=0.915, total=   0.2s\n[CV] learning_rate=0.235, max_depth=2, n_estimators=230 ..............\n[CV]  learning_rate=0.235, max_depth=2, n_estimators=230, score=0.890, total=   0.3s\n[CV] learning_rate=0.235, max_depth=3, n_estimators=210 ..............\n[CV]  learning_rate=0.235, max_depth=3, n_estimators=210, score=0.927, total=   0.3s\n[CV] learning_rate=0.235, max_depth=3, n_estimators=210 ..............\n[CV]  learning_rate=0.235, max_depth=3, n_estimators=210, score=0.931, total=   0.3s\n[CV] learning_rate=0.235, max_depth=3, n_estimators=210 ..............\n[CV]  learning_rate=0.235, max_depth=3, n_estimators=210, score=0.916, total=   0.3s\n[CV] learning_rate=0.235, max_depth=3, n_estimators=210 ..............\n[CV]  learning_rate=0.235, max_depth=3, n_estimators=210, score=0.920, total=   0.3s\n[CV] learning_rate=0.235, max_depth=3, n_estimators=210 ..............\n[CV]  learning_rate=0.235, max_depth=3, n_estimators=210, score=0.878, total=   0.3s\n[CV] learning_rate=0.235, max_depth=3, n_estimators=220 ..............\n[CV]  learning_rate=0.235, max_depth=3, n_estimators=220, score=0.934, total=   0.3s\n[CV] learning_rate=0.235, max_depth=3, n_estimators=220 ..............\n[CV]  learning_rate=0.235, max_depth=3, n_estimators=220, score=0.927, total=   0.3s\n[CV] learning_rate=0.235, max_depth=3, n_estimators=220 ..............\n[CV]  learning_rate=0.235, max_depth=3, n_estimators=220, score=0.915, total=   0.3s\n[CV] learning_rate=0.235, max_depth=3, n_estimators=220 ..............\n[CV]  learning_rate=0.235, max_depth=3, n_estimators=220, score=0.923, total=   0.3s\n[CV] learning_rate=0.235, max_depth=3, n_estimators=220 ..............\n[CV]  learning_rate=0.235, max_depth=3, n_estimators=220, score=0.896, total=   0.3s\n[CV] learning_rate=0.235, max_depth=3, n_estimators=230 ..............\n[CV]  learning_rate=0.235, max_depth=3, n_estimators=230, score=0.934, total=   0.3s\n[CV] learning_rate=0.235, max_depth=3, n_estimators=230 ..............\n[CV]  learning_rate=0.235, max_depth=3, n_estimators=230, score=0.932, total=   0.3s\n[CV] learning_rate=0.235, max_depth=3, n_estimators=230 ..............\n[CV]  learning_rate=0.235, max_depth=3, n_estimators=230, score=0.918, total=   0.4s\n[CV] learning_rate=0.235, max_depth=3, n_estimators=230 ..............\n[CV]  learning_rate=0.235, max_depth=3, n_estimators=230, score=0.930, total=   0.3s\n[CV] learning_rate=0.235, max_depth=3, n_estimators=230 ..............\n[CV]  learning_rate=0.235, max_depth=3, n_estimators=230, score=0.885, total=   0.3s\n[CV] learning_rate=0.235, max_depth=4, n_estimators=210 ..............\n[CV]  learning_rate=0.235, max_depth=4, n_estimators=210, score=0.925, total=   0.3s\n[CV] learning_rate=0.235, max_depth=4, n_estimators=210 ..............\n[CV]  learning_rate=0.235, max_depth=4, n_estimators=210, score=0.936, total=   0.3s\n[CV] learning_rate=0.235, max_depth=4, n_estimators=210 ..............\n[CV]  learning_rate=0.235, max_depth=4, n_estimators=210, score=0.912, total=   0.3s\n[CV] learning_rate=0.235, max_depth=4, n_estimators=210 ..............\n[CV]  learning_rate=0.235, max_depth=4, n_estimators=210, score=0.914, total=   0.3s\n[CV] learning_rate=0.235, max_depth=4, n_estimators=210 ..............\n[CV]  learning_rate=0.235, max_depth=4, n_estimators=210, score=0.904, total=   0.3s\n[CV] learning_rate=0.235, max_depth=4, n_estimators=220 ..............\n[CV]  learning_rate=0.235, max_depth=4, n_estimators=220, score=0.932, total=   0.3s\n[CV] learning_rate=0.235, max_depth=4, n_estimators=220 ..............\n[CV]  learning_rate=0.235, max_depth=4, n_estimators=220, score=0.937, total=   0.3s\n[CV] learning_rate=0.235, max_depth=4, n_estimators=220 ..............\n[CV]  learning_rate=0.235, max_depth=4, n_estimators=220, score=0.916, total=   0.3s\n[CV] learning_rate=0.235, max_depth=4, n_estimators=220 ..............\n[CV]  learning_rate=0.235, max_depth=4, n_estimators=220, score=0.942, total=   0.3s\n[CV] learning_rate=0.235, max_depth=4, n_estimators=220 ..............\n[CV]  learning_rate=0.235, max_depth=4, n_estimators=220, score=0.894, total=   0.3s\n[CV] learning_rate=0.235, max_depth=4, n_estimators=230 ..............\n[CV]  learning_rate=0.235, max_depth=4, n_estimators=230, score=0.932, total=   0.3s\n[CV] learning_rate=0.235, max_depth=4, n_estimators=230 ..............\n[CV]  learning_rate=0.235, max_depth=4, n_estimators=230, score=0.933, total=   0.3s\n[CV] learning_rate=0.235, max_depth=4, n_estimators=230 ..............\n[CV]  learning_rate=0.235, max_depth=4, n_estimators=230, score=0.908, total=   0.3s\n[CV] learning_rate=0.235, max_depth=4, n_estimators=230 ..............\n[CV]  learning_rate=0.235, max_depth=4, n_estimators=230, score=0.942, total=   0.3s\n[CV] learning_rate=0.235, max_depth=4, n_estimators=230 ..............\n[CV]  learning_rate=0.235, max_depth=4, n_estimators=230, score=0.904, total=   0.3s\n[Parallel(n_jobs=1)]: Done 180 out of 180 | elapsed:   54.4s finished\n"
    },
    {
     "output_type": "execute_result",
     "data": {
      "text/plain": "GridSearchCV(cv=None, error_score=nan,\n             estimator=GradientBoostingRegressor(alpha=0.9, ccp_alpha=0.0,\n                                                 criterion='friedman_mse',\n                                                 init=None, learning_rate=0.1,\n                                                 loss='ls', max_depth=3,\n                                                 max_features='log2',\n                                                 max_leaf_nodes=None,\n                                                 min_impurity_decrease=0.0,\n                                                 min_impurity_split=None,\n                                                 min_samples_leaf=1,\n                                                 min_samples_split=2,\n                                                 min_weight_fraction_leaf=0.0,\n                                                 n_estimators=100,\n                                                 n_iter_no_change=None,\n                                                 presort='deprecated',\n                                                 random_state=None,\n                                                 subsample=1.0, tol=0.0001,\n                                                 validation_fraction=0.1,\n                                                 verbose=0, warm_start=False),\n             iid='deprecated', n_jobs=None,\n             param_grid={'learning_rate': [0.2, 0.225, 0.23, 0.235],\n                         'max_depth': [2, 3, 4],\n                         'n_estimators': [210, 220, 230]},\n             pre_dispatch='2*n_jobs', refit=True, return_train_score=False,\n             scoring=None, verbose=3)"
     },
     "metadata": {},
     "execution_count": 8
    }
   ],
   "source": [
    "from sklearn.model_selection import GridSearchCV \n",
    "\n",
    "\n",
    "\n",
    "\n",
    "\n",
    "\n",
    "param_grid = {'n_estimators':[210,220,230],\n",
    "                'max_depth':[2,3,4],\n",
    "                'learning_rate':[0.2,0.225,0.23,0.235]\n",
    "             \n",
    "              }  \n",
    "  \n",
    "grid = GridSearchCV(GradientBoostingRegressor(max_features='log2'), param_grid, refit = True, verbose = 3) \n",
    "  \n",
    "# fitting the model for grid search \n",
    "grid.fit(X_train, y_train) "
   ]
  },
  {
   "cell_type": "code",
   "execution_count": 9,
   "metadata": {
    "tags": []
   },
   "outputs": [
    {
     "output_type": "stream",
     "name": "stdout",
     "text": "{'learning_rate': 0.225, 'max_depth': 4, 'n_estimators': 230}\n"
    }
   ],
   "source": [
    "print(grid.best_params_)"
   ]
  },
  {
   "cell_type": "code",
   "execution_count": 10,
   "metadata": {
    "tags": []
   },
   "outputs": [
    {
     "output_type": "stream",
     "name": "stdout",
     "text": "rmse      \t\t mae        \t\t r2\n4.076480559090774 2.719468226360525 0.9352640902959037\n\n\n"
    }
   ],
   "source": [
    "y_pred=grid.predict(X_test)\n",
    "\n",
    "rmse=mean_squared_error(y_test,y_pred,squared=False)\n",
    "mae=mean_absolute_error(y_test,y_pred)\n",
    "r2=r2_score(y_test,y_pred)\n",
    "\n",
    "print('rmse      \\t\\t mae        \\t\\t r2')\n",
    "print(rmse , mae , r2)\n",
    "print('\\n')"
   ]
  },
  {
   "cell_type": "code",
   "execution_count": null,
   "metadata": {},
   "outputs": [],
   "source": []
  },
  {
   "cell_type": "code",
   "execution_count": null,
   "metadata": {},
   "outputs": [],
   "source": []
  }
 ]
}