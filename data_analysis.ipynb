{
 "metadata": {
  "language_info": {
   "codemirror_mode": {
    "name": "ipython",
    "version": 3
   },
   "file_extension": ".py",
   "mimetype": "text/x-python",
   "name": "python",
   "nbconvert_exporter": "python",
   "pygments_lexer": "ipython3",
   "version": 3
  },
  "orig_nbformat": 2,
  "kernelspec": {
   "name": "python_defaultSpec_1596702596668",
   "display_name": "Python 3.7.6 64-bit ('base': conda)"
  }
 },
 "nbformat": 4,
 "nbformat_minor": 2,
 "cells": [
  {
   "cell_type": "code",
   "execution_count": 1,
   "metadata": {},
   "outputs": [],
   "source": [
    "import numpy as np\n",
    "import pandas as pd \n",
    "import matplotlib.pyplot as plt "
   ]
  },
  {
   "cell_type": "code",
   "execution_count": 2,
   "metadata": {},
   "outputs": [
    {
     "output_type": "execute_result",
     "data": {
      "text/plain": "   Cement (component 1)(kg in a m^3 mixture)  \\\n0                                      540.0   \n1                                      540.0   \n2                                      332.5   \n3                                      332.5   \n4                                      198.6   \n5                                      266.0   \n6                                      380.0   \n7                                      380.0   \n8                                      266.0   \n9                                      475.0   \n\n   Blast Furnace Slag (component 2)(kg in a m^3 mixture)  \\\n0                                                0.0       \n1                                                0.0       \n2                                              142.5       \n3                                              142.5       \n4                                              132.4       \n5                                              114.0       \n6                                               95.0       \n7                                               95.0       \n8                                              114.0       \n9                                                0.0       \n\n   Fly Ash (component 3)(kg in a m^3 mixture)  \\\n0                                         0.0   \n1                                         0.0   \n2                                         0.0   \n3                                         0.0   \n4                                         0.0   \n5                                         0.0   \n6                                         0.0   \n7                                         0.0   \n8                                         0.0   \n9                                         0.0   \n\n   Water  (component 4)(kg in a m^3 mixture)  \\\n0                                      162.0   \n1                                      162.0   \n2                                      228.0   \n3                                      228.0   \n4                                      192.0   \n5                                      228.0   \n6                                      228.0   \n7                                      228.0   \n8                                      228.0   \n9                                      228.0   \n\n   Superplasticizer (component 5)(kg in a m^3 mixture)  \\\n0                                                2.5     \n1                                                2.5     \n2                                                0.0     \n3                                                0.0     \n4                                                0.0     \n5                                                0.0     \n6                                                0.0     \n7                                                0.0     \n8                                                0.0     \n9                                                0.0     \n\n   Coarse Aggregate  (component 6)(kg in a m^3 mixture)  \\\n0                                             1040.0      \n1                                             1055.0      \n2                                              932.0      \n3                                              932.0      \n4                                              978.4      \n5                                              932.0      \n6                                              932.0      \n7                                              932.0      \n8                                              932.0      \n9                                              932.0      \n\n   Fine Aggregate (component 7)(kg in a m^3 mixture)  Age (day)  \\\n0                                              676.0         28   \n1                                              676.0         28   \n2                                              594.0        270   \n3                                              594.0        365   \n4                                              825.5        360   \n5                                              670.0         90   \n6                                              594.0        365   \n7                                              594.0         28   \n8                                              670.0         28   \n9                                              594.0         28   \n\n   Concrete compressive strength(MPa, megapascals)   \n0                                             79.99  \n1                                             61.89  \n2                                             40.27  \n3                                             41.05  \n4                                             44.30  \n5                                             47.03  \n6                                             43.70  \n7                                             36.45  \n8                                             45.85  \n9                                             39.29  ",
      "text/html": "<div>\n<style scoped>\n    .dataframe tbody tr th:only-of-type {\n        vertical-align: middle;\n    }\n\n    .dataframe tbody tr th {\n        vertical-align: top;\n    }\n\n    .dataframe thead th {\n        text-align: right;\n    }\n</style>\n<table border=\"1\" class=\"dataframe\">\n  <thead>\n    <tr style=\"text-align: right;\">\n      <th></th>\n      <th>Cement (component 1)(kg in a m^3 mixture)</th>\n      <th>Blast Furnace Slag (component 2)(kg in a m^3 mixture)</th>\n      <th>Fly Ash (component 3)(kg in a m^3 mixture)</th>\n      <th>Water  (component 4)(kg in a m^3 mixture)</th>\n      <th>Superplasticizer (component 5)(kg in a m^3 mixture)</th>\n      <th>Coarse Aggregate  (component 6)(kg in a m^3 mixture)</th>\n      <th>Fine Aggregate (component 7)(kg in a m^3 mixture)</th>\n      <th>Age (day)</th>\n      <th>Concrete compressive strength(MPa, megapascals)</th>\n    </tr>\n  </thead>\n  <tbody>\n    <tr>\n      <th>0</th>\n      <td>540.0</td>\n      <td>0.0</td>\n      <td>0.0</td>\n      <td>162.0</td>\n      <td>2.5</td>\n      <td>1040.0</td>\n      <td>676.0</td>\n      <td>28</td>\n      <td>79.99</td>\n    </tr>\n    <tr>\n      <th>1</th>\n      <td>540.0</td>\n      <td>0.0</td>\n      <td>0.0</td>\n      <td>162.0</td>\n      <td>2.5</td>\n      <td>1055.0</td>\n      <td>676.0</td>\n      <td>28</td>\n      <td>61.89</td>\n    </tr>\n    <tr>\n      <th>2</th>\n      <td>332.5</td>\n      <td>142.5</td>\n      <td>0.0</td>\n      <td>228.0</td>\n      <td>0.0</td>\n      <td>932.0</td>\n      <td>594.0</td>\n      <td>270</td>\n      <td>40.27</td>\n    </tr>\n    <tr>\n      <th>3</th>\n      <td>332.5</td>\n      <td>142.5</td>\n      <td>0.0</td>\n      <td>228.0</td>\n      <td>0.0</td>\n      <td>932.0</td>\n      <td>594.0</td>\n      <td>365</td>\n      <td>41.05</td>\n    </tr>\n    <tr>\n      <th>4</th>\n      <td>198.6</td>\n      <td>132.4</td>\n      <td>0.0</td>\n      <td>192.0</td>\n      <td>0.0</td>\n      <td>978.4</td>\n      <td>825.5</td>\n      <td>360</td>\n      <td>44.30</td>\n    </tr>\n    <tr>\n      <th>5</th>\n      <td>266.0</td>\n      <td>114.0</td>\n      <td>0.0</td>\n      <td>228.0</td>\n      <td>0.0</td>\n      <td>932.0</td>\n      <td>670.0</td>\n      <td>90</td>\n      <td>47.03</td>\n    </tr>\n    <tr>\n      <th>6</th>\n      <td>380.0</td>\n      <td>95.0</td>\n      <td>0.0</td>\n      <td>228.0</td>\n      <td>0.0</td>\n      <td>932.0</td>\n      <td>594.0</td>\n      <td>365</td>\n      <td>43.70</td>\n    </tr>\n    <tr>\n      <th>7</th>\n      <td>380.0</td>\n      <td>95.0</td>\n      <td>0.0</td>\n      <td>228.0</td>\n      <td>0.0</td>\n      <td>932.0</td>\n      <td>594.0</td>\n      <td>28</td>\n      <td>36.45</td>\n    </tr>\n    <tr>\n      <th>8</th>\n      <td>266.0</td>\n      <td>114.0</td>\n      <td>0.0</td>\n      <td>228.0</td>\n      <td>0.0</td>\n      <td>932.0</td>\n      <td>670.0</td>\n      <td>28</td>\n      <td>45.85</td>\n    </tr>\n    <tr>\n      <th>9</th>\n      <td>475.0</td>\n      <td>0.0</td>\n      <td>0.0</td>\n      <td>228.0</td>\n      <td>0.0</td>\n      <td>932.0</td>\n      <td>594.0</td>\n      <td>28</td>\n      <td>39.29</td>\n    </tr>\n  </tbody>\n</table>\n</div>"
     },
     "metadata": {},
     "execution_count": 2
    }
   ],
   "source": [
    "df=pd.read_csv('compresive_strength_concrete.csv')\n",
    "\n",
    "df.head(10)"
   ]
  },
  {
   "cell_type": "code",
   "execution_count": 3,
   "metadata": {
    "tags": []
   },
   "outputs": [
    {
     "output_type": "stream",
     "name": "stdout",
     "text": "cement     blast    flyash     water  superplasticiser    coarse  \\\n0  2.477915 -0.856888 -0.847144 -0.916764         -0.620448  0.863154   \n1  2.477915 -0.856888 -0.847144 -0.916764         -0.620448  1.056164   \n2  0.491425  0.795526 -0.847144  2.175461         -1.039143 -0.526517   \n3  0.491425  0.795526 -0.847144  2.175461         -1.039143 -0.526517   \n\n       fine       age       ccs  \n0 -1.217670 -0.279733  2.645408  \n1 -1.217670 -0.279733  1.561421  \n2 -2.240917  3.553066  0.266627  \n3 -2.240917  5.057677  0.313340  \n"
    }
   ],
   "source": [
    "\n",
    "\n",
    "df.columns=['cement','blast','flyash','water','superplasticiser','coarse','fine','age','ccs']\n",
    "col=list(df.columns)\n",
    "for i in col:\n",
    "    df[i]=(df[i]-df[i].mean())/df[i].std(ddof=0)\n",
    "\n",
    "print(df.head(4))"
   ]
  },
  {
   "cell_type": "code",
   "execution_count": null,
   "metadata": {},
   "outputs": [],
   "source": []
  },
  {
   "cell_type": "code",
   "execution_count": 5,
   "metadata": {
    "tags": []
   },
   "outputs": [
    {
     "output_type": "stream",
     "name": "stdout",
     "text": "cement     blast    flyash     water  superplasticiser    coarse  \\\n0  2.477915 -0.856888 -0.847144 -0.916764         -0.620448  0.863154   \n1  2.477915 -0.856888 -0.847144 -0.916764         -0.620448  1.056164   \n2  0.491425  0.795526 -0.847144  2.175461         -1.039143 -0.526517   \n3  0.491425  0.795526 -0.847144  2.175461         -1.039143 -0.526517   \n4 -0.790459  0.678408 -0.847144  0.488793         -1.039143  0.070527   \n5 -0.145209  0.465044 -0.847144  2.175461         -1.039143 -0.526517   \n\n       fine       age  \n0 -1.217670 -0.279733  \n1 -1.217670 -0.279733  \n2 -2.240917  3.553066  \n3 -2.240917  5.057677  \n4  0.647884  4.978487  \n5 -1.292542  0.702224  \n0    2.645408\n1    1.561421\n2    0.266627\n3    0.313340\n4    0.507979\n5    0.671475\nName: ccs, dtype: float64\n"
    }
   ],
   "source": [
    "X=df.iloc[:,:-1]\n",
    "\n",
    "y=df.iloc[:,-1]\n",
    "\n",
    "print(X.head(6))\n",
    "print(y.head(6))\n",
    "\n",
    "from sklearn.model_selection import train_test_split\n",
    "\n",
    "X_train, X_test, y_train, y_test = train_test_split(\n",
    "    X, y, test_size=0.30, random_state=0)\n",
    "\n"
   ]
  },
  {
   "cell_type": "code",
   "execution_count": 6,
   "metadata": {
    "tags": []
   },
   "outputs": [
    {
     "output_type": "stream",
     "name": "stdout",
     "text": "Fitting 5 folds for each of 3 candidates, totalling 15 fits\n[CV] learning_rate=0.22 ..............................................\n[CV] .................. learning_rate=0.22, score=0.918, total=   0.2s\n[CV] learning_rate=0.22 ..............................................\n[Parallel(n_jobs=1)]: Using backend SequentialBackend with 1 concurrent workers.\n[Parallel(n_jobs=1)]: Done   1 out of   1 | elapsed:    0.2s remaining:    0.0s\n[CV] .................. learning_rate=0.22, score=0.923, total=   0.2s\n[CV] learning_rate=0.22 ..............................................\n[CV] .................. learning_rate=0.22, score=0.902, total=   0.2s\n[CV] learning_rate=0.22 ..............................................\n[Parallel(n_jobs=1)]: Done   2 out of   2 | elapsed:    0.4s remaining:    0.0s\n[CV] .................. learning_rate=0.22, score=0.941, total=   0.2s\n[CV] learning_rate=0.22 ..............................................\n[CV] .................. learning_rate=0.22, score=0.899, total=   0.1s\n[CV] learning_rate=0.225 .............................................\n[CV] ................. learning_rate=0.225, score=0.925, total=   0.1s\n[CV] learning_rate=0.225 .............................................\n[CV] ................. learning_rate=0.225, score=0.928, total=   0.1s\n[CV] learning_rate=0.225 .............................................\n[CV] ................. learning_rate=0.225, score=0.920, total=   0.1s\n[CV] learning_rate=0.225 .............................................\n[CV] ................. learning_rate=0.225, score=0.928, total=   0.1s\n[CV] learning_rate=0.225 .............................................\n[CV] ................. learning_rate=0.225, score=0.916, total=   0.1s\n[CV] learning_rate=0.23 ..............................................\n[CV] .................. learning_rate=0.23, score=0.932, total=   0.1s\n[CV] learning_rate=0.23 ..............................................\n[CV] .................. learning_rate=0.23, score=0.942, total=   0.1s\n[CV] learning_rate=0.23 ..............................................\n[CV] .................. learning_rate=0.23, score=0.916, total=   0.1s\n[CV] learning_rate=0.23 ..............................................\n[CV] .................. learning_rate=0.23, score=0.932, total=   0.1s\n[CV] learning_rate=0.23 ..............................................\n[CV] .................. learning_rate=0.23, score=0.889, total=   0.1s\n[Parallel(n_jobs=1)]: Done  15 out of  15 | elapsed:    2.2s finished\n"
    },
    {
     "output_type": "execute_result",
     "data": {
      "text/plain": "GridSearchCV(cv=None, error_score=nan,\n             estimator=GradientBoostingRegressor(alpha=0.9, ccp_alpha=0.0,\n                                                 criterion='friedman_mse',\n                                                 init=None, learning_rate=0.1,\n                                                 loss='ls', max_depth=3,\n                                                 max_features='log2',\n                                                 max_leaf_nodes=None,\n                                                 min_impurity_decrease=0.0,\n                                                 min_impurity_split=None,\n                                                 min_samples_leaf=1,\n                                                 min_samples_split=2,\n                                                 min_weight_fraction_leaf=0.0,\n                                                 n_estimators=210,\n                                                 n_iter_no_change=None,\n                                                 presort='deprecated',\n                                                 random_state=None,\n                                                 subsample=1.0, tol=0.0001,\n                                                 validation_fraction=0.1,\n                                                 verbose=0, warm_start=False),\n             iid='deprecated', n_jobs=None,\n             param_grid={'learning_rate': [0.22, 0.225, 0.23]},\n             pre_dispatch='2*n_jobs', refit=True, return_train_score=False,\n             scoring=None, verbose=3)"
     },
     "metadata": {},
     "execution_count": 6
    }
   ],
   "source": [
    "from sklearn.model_selection import GridSearchCV \n",
    "from sklearn.ensemble import GradientBoostingRegressor\n",
    "\n",
    "\n",
    "\n",
    "\n",
    "\n",
    "param_grid = {'learning_rate': [0.22,0.225,0.23],  \n",
    "             \n",
    "              }  \n",
    "  \n",
    "grid = GridSearchCV(GradientBoostingRegressor(max_depth=3,n_estimators=210,max_features='log2'), param_grid, refit = True, verbose = 3) \n",
    "  \n",
    "# fitting the model for grid search \n",
    "grid.fit(X_train, y_train) \n"
   ]
  },
  {
   "cell_type": "code",
   "execution_count": 8,
   "metadata": {
    "tags": []
   },
   "outputs": [
    {
     "output_type": "stream",
     "name": "stdout",
     "text": "rmse      \t\t mae        \t\t r2\n0.2664543067936439 0.18927908436453067 0.9228866303752505\n\n\n"
    }
   ],
   "source": [
    "from sklearn.metrics import mean_squared_error,mean_absolute_error,r2_score\n",
    "\n",
    "\n",
    "y_pred=grid.predict(X_test)\n",
    "\n",
    "rmse=mean_squared_error(y_test,y_pred,squared=False)\n",
    "mae=mean_absolute_error(y_test,y_pred)\n",
    "r2=r2_score(y_test,y_pred)\n",
    "\n",
    "print('rmse      \\t\\t mae        \\t\\t r2')\n",
    "print(rmse , mae , r2)\n",
    "print('\\n')"
   ]
  },
  {
   "cell_type": "code",
   "execution_count": null,
   "metadata": {},
   "outputs": [],
   "source": []
  }
 ]
}